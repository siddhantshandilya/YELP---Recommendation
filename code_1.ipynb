{
 "cells": [
  {
   "cell_type": "code",
   "execution_count": null,
   "metadata": {},
   "outputs": [],
   "source": [
    "import pandas as pd\n",
    "import json\n",
    "from tqdm import tqdm\n",
    "line_count = len(open(\"yelp_dataset/review.json\").readlines())\n",
    "user_ids, business_ids, stars, dates = [], [], [], []\n",
    "with open(\"review.json\") as f:\n",
    "  for line in tqdm(f, total=line_count):\n",
    "       blob = json.loads(line)\n",
    "       user_ids += [blob[\"user_id\"]]\n",
    "       business_ids += [blob[\"business_id\"]]\n",
    "       stars += [blob[\"stars\"]]\n",
    "       dates += [blob[\"date\"]]\n",
    "ratings = pd.DataFrame(\n",
    "   {\"user_id\": user_ids, \"business_id\": business_ids, \"rating\": stars, \"date\": dates}\n",
    ")\n",
    "user_counts = ratings[\"user_id\"].value_counts()\n",
    "active_users = user_counts.loc[user_counts >= 5].index.tolist()"
   ]
  },
  {
   "cell_type": "code",
   "execution_count": null,
   "metadata": {},
   "outputs": [],
   "source": []
  }
 ],
 "metadata": {
  "kernelspec": {
   "display_name": "Python 3",
   "language": "python",
   "name": "python3"
  },
  "language_info": {
   "codemirror_mode": {
    "name": "ipython",
    "version": 3
   },
   "file_extension": ".py",
   "mimetype": "text/x-python",
   "name": "python",
   "nbconvert_exporter": "python",
   "pygments_lexer": "ipython3",
   "version": "3.7.3"
  }
 },
 "nbformat": 4,
 "nbformat_minor": 2
}
